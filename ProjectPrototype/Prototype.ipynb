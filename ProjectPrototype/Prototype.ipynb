{
 "cells": [
  {
   "cell_type": "markdown",
   "metadata": {},
   "source": [
    "# Prototipo Sistemas inteligentes (Pensar nombre)"
   ]
  },
  {
   "cell_type": "markdown",
   "metadata": {},
   "source": [
    "## Imports\n",
    "\n",
    "Las siguientes son las librerias utilizadas en el prototipo:"
   ]
  },
  {
   "cell_type": "code",
   "execution_count": 1,
   "metadata": {},
   "outputs": [],
   "source": [
    "import pydot\n",
    "import random\n",
    "from IPython.display import Image, display"
   ]
  },
  {
   "cell_type": "markdown",
   "metadata": {},
   "source": [
    "## Classes definition\n",
    "\n",
    "Here is where we define the Classes we are going to using along the prototype code"
   ]
  },
  {
   "cell_type": "code",
   "execution_count": 2,
   "metadata": {},
   "outputs": [],
   "source": [
    "class Station:\n",
    "    def __init__(self, name):\n",
    "        self.name = name\n",
    "        self.connectedStations = dict()\n",
    "\n",
    "    def connectStation(self, station, distance):\n",
    "        self.connectedStations[station.name] = (station, distance)\n",
    "\n",
    "class StationPassengers:\n",
    "    def __init__(self, originStation, destinationsStation, passengers):\n",
    "        self.originStation = originStation\n",
    "        self.destinationsStation = destinationsStation\n",
    "        self.passengers = passengers"
   ]
  },
  {
   "cell_type": "markdown",
   "metadata": {},
   "source": [
    "## Random passengers generator\n",
    "\n",
    "The random passengers generator is a function that generates passengers between the stations defined in StationsGraph.csv, it use a uniform distribution to generate a flow of people with their origin station and their destination station"
   ]
  },
  {
   "cell_type": "code",
   "execution_count": 3,
   "metadata": {},
   "outputs": [],
   "source": [
    "def randomPassengersGenerator(stationsNames, minPassengers, maxPassengers, seed = 16012022, targetFileName = 'passengers.csv'):\n",
    "    passengersFile = open(targetFileName, 'w')\n",
    "    random.seed(seed)\n",
    "\n",
    "    for originStation in stationsNames:\n",
    "        for destinationsStation in stationsNames:\n",
    "            if originStation != destinationsStation:\n",
    "                passengers = random.randint(minPassengers, maxPassengers)\n",
    "                passengersFile.write(\"{},{},{}\\n\".format(originStation, destinationsStation, passengers))"
   ]
  },
  {
   "cell_type": "markdown",
   "metadata": {},
   "source": [
    "## Entrada de datos\n",
    "\n",
    "Se hace la lectura de datos correspondientes al grafo de la estaciones y el flujo de pasajeros."
   ]
  },
  {
   "cell_type": "code",
   "execution_count": 4,
   "metadata": {},
   "outputs": [],
   "source": [
    "def readStationsGraph(filePath = \"./StationsGraph.csv\"):\n",
    "    stationsInput = open(filePath).readlines()\n",
    "\n",
    "    stationsGraph = dict()\n",
    "    stationsArray = []\n",
    "    for station in stationsInput.pop(0).split(\",\"):\n",
    "        if station != \"\":\n",
    "            currentStation = Station(station[0])\n",
    "            stationsArray.append(currentStation)\n",
    "            stationsGraph[currentStation.name] = currentStation\n",
    "\n",
    "    for distancesString in stationsInput:\n",
    "        distances = distancesString.split(',')\n",
    "\n",
    "        # Get station name that is the first element of each row\n",
    "        originStation = distances.pop(0)\n",
    "        # Get the station object using the station name\n",
    "        originStation = stationsGraph[originStation]\n",
    "        # Delete the \\n character in the last element of the list\n",
    "        distances[-1] = distances[-1][0]\n",
    "\n",
    "        for (index, distance) in enumerate(distances):\n",
    "            if distance != \"-\":\n",
    "                destinationStation = stationsArray[index]\n",
    "                originStation.connectStation(destinationStation, distance)\n",
    "                \n",
    "    return stationsGraph, [station.name for station in stationsArray]\n",
    "\n",
    "def readPassengers(stationsGraph, filePath = 'passengers.csv'):\n",
    "    passengersInput = open(filePath).readlines()\n",
    "    passengersDict = dict()\n",
    "\n",
    "    for passengersInputLine in passengersInput:\n",
    "        [originStation, destinationStation, passengers ] = passengersInputLine.split(',')\n",
    "        passengers = int(passengers)\n",
    "\n",
    "        passengersKey = \"{}{}\".format(originStation, destinationStation)\n",
    "        passengersDict[passengersKey] = StationPassengers(stationsGraph[originStation], stationsGraph[destinationStation], passengers)\n",
    "\n",
    "    return passengersDict\n",
    "        \n",
    "    "
   ]
  },
  {
   "cell_type": "code",
   "execution_count": 7,
   "metadata": {},
   "outputs": [],
   "source": [
    "stations = readStationsGraph()\n",
    "#randomPassengersGenerator(stations[1], 20, 50)\n",
    "passengers = readPassengers(stations[0])"
   ]
  }
 ],
 "metadata": {
  "interpreter": {
   "hash": "0404703841b173d4eb35b5131ea459d4268d720bf2f78284a825e950e485a93e"
  },
  "kernelspec": {
   "display_name": "Python 3.9.9 64-bit",
   "language": "python",
   "name": "python3"
  },
  "language_info": {
   "codemirror_mode": {
    "name": "ipython",
    "version": 3
   },
   "file_extension": ".py",
   "mimetype": "text/x-python",
   "name": "python",
   "nbconvert_exporter": "python",
   "pygments_lexer": "ipython3",
   "version": "3.9.9"
  },
  "orig_nbformat": 4
 },
 "nbformat": 4,
 "nbformat_minor": 2
}
